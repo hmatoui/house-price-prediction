{
 "cells": [
  {
   "cell_type": "markdown",
   "metadata": {},
   "source": [
    "## Import Libraries"
   ]
  },
  {
   "cell_type": "code",
   "execution_count": null,
   "metadata": {},
   "outputs": [],
   "source": [
    "import pandas as pd\n",
    "import numpy as np\n",
    "from sklearn.model_selection import train_test_split, cross_val_score\n",
    "from sklearn.linear_model import LinearRegression\n",
    "from sklearn.tree import DecisionTreeRegressor\n",
    "from sklearn.ensemble import RandomForestRegressor\n",
    "from sklearn.preprocessing import StandardScaler\n",
    "from sklearn.metrics import mean_squared_error, r2_score\n",
    "import joblib\n",
    "import matplotlib.pyplot as plt\n",
    "import seaborn as sns\n"
   ]
  },
  {
   "cell_type": "markdown",
   "metadata": {},
   "source": [
    "## Load Processed Data"
   ]
  },
  {
   "cell_type": "code",
   "execution_count": 2,
   "metadata": {},
   "outputs": [],
   "source": [
    "# Load the processed dataset\n",
    "data = pd.read_csv('../data/processed/data_processed.csv')\n",
    "\n",
    "# Separate features and target variable\n",
    "X = data.drop(columns=['SalePrice'])  # Replace 'SalePrice' with the actual target column name\n",
    "y = data['SalePrice']\n"
   ]
  },
  {
   "cell_type": "markdown",
   "metadata": {},
   "source": [
    "## Identify the top 5 important features"
   ]
  },
  {
   "cell_type": "code",
   "execution_count": 3,
   "metadata": {},
   "outputs": [
    {
     "name": "stdout",
     "output_type": "stream",
     "text": [
      "Top 5 Important Features: ['OverallQual', 'GrLivArea', 'TotalBsmtSF', 'BsmtFinSF1', '2ndFlrSF']\n"
     ]
    }
   ],
   "source": [
    "# Train a Random Forest Regressor to get feature importances\n",
    "model = RandomForestRegressor(n_estimators=100, random_state=42)\n",
    "model.fit(X, y)\n",
    "\n",
    "# Get feature importances\n",
    "NUM_FEATURES = 5  # 5 important features\n",
    "feature_importances = pd.Series(model.feature_importances_, index=X.columns)\n",
    "top_features = feature_importances.nlargest(NUM_FEATURES).index.tolist()\n",
    "print(\"Top 5 Important Features:\", top_features)\n",
    "\n",
    "X = X[top_features]"
   ]
  },
  {
   "cell_type": "markdown",
   "metadata": {},
   "source": [
    "## Split Data"
   ]
  },
  {
   "cell_type": "code",
   "execution_count": 4,
   "metadata": {},
   "outputs": [
    {
     "name": "stdout",
     "output_type": "stream",
     "text": [
      "Training set size: (1168, 5)\n",
      "Testing set size: (292, 5)\n"
     ]
    }
   ],
   "source": [
    "# Split the data into training and testing sets\n",
    "X_train, X_test, y_train, y_test = train_test_split(X, y, test_size=0.2, random_state=42)\n",
    "\n",
    "print(\"Training set size:\", X_train.shape)\n",
    "print(\"Testing set size:\", X_test.shape)"
   ]
  },
  {
   "cell_type": "markdown",
   "metadata": {},
   "source": [
    "## Model Training"
   ]
  },
  {
   "cell_type": "markdown",
   "metadata": {},
   "source": [
    "### Linear Regression"
   ]
  },
  {
   "cell_type": "code",
   "execution_count": 5,
   "metadata": {},
   "outputs": [
    {
     "name": "stdout",
     "output_type": "stream",
     "text": [
      "Linear Regression RMSE: 0.4983371741084926\n",
      "Linear Regression R²: 0.7958069251703\n"
     ]
    }
   ],
   "source": [
    "# Train Linear Regression model\n",
    "lr_model = LinearRegression()\n",
    "lr_model.fit(X_train, y_train)\n",
    "\n",
    "# Predict on test data\n",
    "y_pred_lr = lr_model.predict(X_test)\n",
    "\n",
    "# Evaluate the model\n",
    "lr_rmse = np.sqrt(mean_squared_error(y_test, y_pred_lr))\n",
    "lr_r2 = r2_score(y_test, y_pred_lr)\n",
    "\n",
    "print(\"Linear Regression RMSE:\", lr_rmse)\n",
    "print(\"Linear Regression R²:\", lr_r2)\n"
   ]
  },
  {
   "cell_type": "markdown",
   "metadata": {},
   "source": [
    "### Decision Tree Regressor"
   ]
  },
  {
   "cell_type": "code",
   "execution_count": 6,
   "metadata": {},
   "outputs": [
    {
     "name": "stdout",
     "output_type": "stream",
     "text": [
      "Decision Tree RMSE: 0.5063729813791404\n",
      "Decision Tree R²: 0.7891685049100299\n"
     ]
    }
   ],
   "source": [
    "# Train Decision Tree Regressor\n",
    "dt_model = DecisionTreeRegressor(random_state=42)\n",
    "dt_model.fit(X_train, y_train)\n",
    "\n",
    "# Predict on test data\n",
    "y_pred_dt = dt_model.predict(X_test)\n",
    "\n",
    "# Evaluate the model\n",
    "dt_rmse = np.sqrt(mean_squared_error(y_test, y_pred_dt))\n",
    "dt_r2 = r2_score(y_test, y_pred_dt)\n",
    "\n",
    "print(\"Decision Tree RMSE:\", dt_rmse)\n",
    "print(\"Decision Tree R²:\", dt_r2)\n"
   ]
  },
  {
   "cell_type": "markdown",
   "metadata": {},
   "source": [
    "### Random Forest Regressor"
   ]
  },
  {
   "cell_type": "code",
   "execution_count": 7,
   "metadata": {},
   "outputs": [
    {
     "name": "stdout",
     "output_type": "stream",
     "text": [
      "Random Forest RMSE: 0.3764083037070625\n",
      "Random Forest R²: 0.8835035128412797\n"
     ]
    }
   ],
   "source": [
    "# Train Random Forest Regressor\n",
    "rf_model = RandomForestRegressor(random_state=42, n_estimators=100)\n",
    "rf_model.fit(X_train, y_train)\n",
    "\n",
    "# Predict on test data\n",
    "y_pred_rf = rf_model.predict(X_test)\n",
    "\n",
    "# Evaluate the model\n",
    "rf_rmse = np.sqrt(mean_squared_error(y_test, y_pred_rf))\n",
    "rf_r2 = r2_score(y_test, y_pred_rf)\n",
    "\n",
    "print(\"Random Forest RMSE:\", rf_rmse)\n",
    "print(\"Random Forest R²:\", rf_r2)\n"
   ]
  },
  {
   "cell_type": "markdown",
   "metadata": {},
   "source": [
    "## Model Comparison"
   ]
  },
  {
   "cell_type": "code",
   "execution_count": 8,
   "metadata": {},
   "outputs": [
    {
     "name": "stdout",
     "output_type": "stream",
     "text": [
      "               Model      RMSE        R²\n",
      "0  Linear Regression  0.498337  0.795807\n",
      "1      Decision Tree  0.506373  0.789169\n",
      "2      Random Forest  0.376408  0.883504\n"
     ]
    },
    {
     "data": {
      "image/png": "[encoded data removed]",
      "text/plain": [
       "<Figure size 640x480 with 1 Axes>"
      ]
     },
     "metadata": {},
     "output_type": "display_data"
    },
    {
     "data": {
      "image/png": "[encoded data removed]",
      "text/plain": [
       "<Figure size 640x480 with 1 Axes>"
      ]
     },
     "metadata": {},
     "output_type": "display_data"
    }
   ],
   "source": [
    "# Create a DataFrame for comparison\n",
    "model_comparison = pd.DataFrame({\n",
    "    'Model': ['Linear Regression', 'Decision Tree', 'Random Forest'],\n",
    "    'RMSE': [lr_rmse, dt_rmse, rf_rmse],\n",
    "    'R²': [lr_r2, dt_r2, rf_r2]\n",
    "})\n",
    "\n",
    "# Display comparison table\n",
    "print(model_comparison)\n",
    "\n",
    "# Visualize comparison\n",
    "sns.barplot(x='Model', y='RMSE', data=model_comparison)\n",
    "plt.title('Model Comparison - RMSE')\n",
    "plt.show()\n",
    "\n",
    "sns.barplot(x='Model', y='R²', data=model_comparison)\n",
    "plt.title('Model Comparison - R²')\n",
    "plt.show()\n"
   ]
  },
  {
   "cell_type": "markdown",
   "metadata": {},
   "source": [
    "## Save the Best Model and the Scaler"
   ]
  },
  {
   "cell_type": "code",
   "execution_count": null,
   "metadata": {},
   "outputs": [
    {
     "name": "stdout",
     "output_type": "stream",
     "text": [
      "Best model saved as 'best_model.pkl' in out/ directory.\n",
      "Top features saved: ['OverallQual', 'GrLivArea', 'TotalBsmtSF', 'BsmtFinSF1', '2ndFlrSF']\n",
      "Feature ranges saved to src/feature_ranges.json\n",
      "Feature scaler saved to src/scaler.pkl\n",
      "Target scaler saved to src/target_scaler.pkl\n"
     ]
    }
   ],
   "source": [
    "import os\n",
    "import json\n",
    "import pickle\n",
    "\n",
    "# Define the directory path\n",
    "output_dir = '../out/'\n",
    "\n",
    "# Create the directory if it doesn't exist\n",
    "os.makedirs(output_dir, exist_ok=True)\n",
    "\n",
    "# Save the best model\n",
    "best_model = rf_model  # Replace with the best-performing model\n",
    "joblib.dump(best_model, '../src/best_model.pkl')\n",
    "\n",
    "print(\"Best model saved as 'best_model.pkl' in out/ directory.\")\n",
    "\n",
    "# Save the top features to a JSON file\n",
    "with open('../src/top_features.json', 'w') as f:\n",
    "    json.dump(feature_importances.nlargest(NUM_FEATURES).to_dict(), f)\n",
    "print(\"Top features saved:\", top_features)\n",
    "\n",
    "# Compute min and max for each selected feature\n",
    "raw_data = pd.read_csv('../data/raw/raw_data.csv')\n",
    "\n",
    "# Scale the numerical features\n",
    "scaler = StandardScaler()\n",
    "scaler.fit_transform(raw_data[top_features])\n",
    "\n",
    "feature_ranges = {\n",
    "    feature: {\"min\": float(raw_data[feature].min()), \"max\": float(raw_data[feature].max())}\n",
    "    for feature in feature_importances.nlargest(NUM_FEATURES).to_dict()\n",
    "}\n",
    "\n",
    "# Scale target variable (SalePrice)\n",
    "target_scaler = StandardScaler()\n",
    "target_scaler.fit_transform(raw_data['SalePrice'].values.reshape(-1, 1))\n",
    "\n",
    "# Save the ranges to a JSON file\n",
    "with open(\"../src/feature_ranges.json\", \"w\") as json_file:\n",
    "    json.dump(feature_ranges, json_file, indent=4)\n",
    "print(\"Feature ranges saved to src/feature_ranges.json\")\n",
    "\n",
    "# Save the scaler for later use in the app\n",
    "with open(\"../src/scaler.pkl\", \"wb\") as scaler_file:\n",
    "    pickle.dump(scaler, scaler_file)\n",
    "print(\"Feature scaler saved to src/scaler.pkl\")\n",
    "\n",
    "# Save the target scaler\n",
    "with open(\"../src/target_scaler.pkl\", \"wb\") as target_scaler_file:\n",
    "    pickle.dump(target_scaler, target_scaler_file)\n",
    "print(\"Target scaler saved to src/target_scaler.pkl\")\n"
   ]
  }
 ],
 "metadata": {
  "kernelspec": {
   "display_name": "venv",
   "language": "python",
   "name": "python3"
  },
  "language_info": {
   "codemirror_mode": {
    "name": "ipython",
    "version": 3
   },
   "file_extension": ".py",
   "mimetype": "text/x-python",
   "name": "python",
   "nbconvert_exporter": "python",
   "pygments_lexer": "ipython3",
   "version": "3.10.0"
  }
 },
 "nbformat": 4,
 "nbformat_minor": 2
}
